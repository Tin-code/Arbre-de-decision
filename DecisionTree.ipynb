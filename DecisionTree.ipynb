{
  "nbformat": 4,
  "nbformat_minor": 0,
  "metadata": {
    "colab": {
      "name": "projet1_DecisionTree.ipynb",
      "provenance": [],
      "collapsed_sections": [],
      "authorship_tag": "ABX9TyMY2q0pOCgN+pIn0QKmXvwQ",
      "include_colab_link": true
    },
    "kernelspec": {
      "name": "python3",
      "display_name": "Python 3"
    },
    "language_info": {
      "name": "python"
    }
  },
  "cells": [
    {
      "cell_type": "markdown",
      "metadata": {
        "id": "view-in-github",
        "colab_type": "text"
      },
      "source": [
        "<a href=\"https://colab.research.google.com/github/Tin-code/Arbre-de-decision/blob/main/DecisionTree.ipynb\" target=\"_parent\"><img src=\"https://colab.research.google.com/assets/colab-badge.svg\" alt=\"Open In Colab\"/></a>"
      ]
    },
    {
      "cell_type": "code",
      "metadata": {
        "id": "kBP_hcpvohMG"
      },
      "source": [
        "from google.colab import drive"
      ],
      "execution_count": 1,
      "outputs": []
    },
    {
      "cell_type": "code",
      "metadata": {
        "colab": {
          "base_uri": "https://localhost:8080/"
        },
        "id": "d60vo_F5o0_i",
        "outputId": "3b55ab94-8b47-4b41-b733-4e453c0ffa9a"
      },
      "source": [
        "drive.mount('/content/gdrive')"
      ],
      "execution_count": 2,
      "outputs": [
        {
          "output_type": "stream",
          "name": "stdout",
          "text": [
            "Mounted at /content/gdrive\n"
          ]
        }
      ]
    },
    {
      "cell_type": "code",
      "metadata": {
        "id": "FqnUrWeAo8A1"
      },
      "source": [
        "#importation des differents modules \n",
        "import numpy as np\n",
        "import pandas as pd\n",
        "import matplotlib.pyplot as plt"
      ],
      "execution_count": 3,
      "outputs": []
    },
    {
      "cell_type": "code",
      "metadata": {
        "id": "AH4BEFtFpYOA"
      },
      "source": [
        "#1-recuperation du dataset Coeur\n",
        "data = pd.read_excel(r'/content/gdrive/My Drive/Coeur.xlsx')"
      ],
      "execution_count": 4,
      "outputs": []
    },
    {
      "cell_type": "code",
      "metadata": {
        "id": "HDOxZiRPpx8S"
      },
      "source": [
        "#2-copie de data dans df \n",
        "df = data.copy()\n"
      ],
      "execution_count": 5,
      "outputs": []
    },
    {
      "cell_type": "code",
      "metadata": {
        "colab": {
          "base_uri": "https://localhost:8080/",
          "height": 424
        },
        "id": "8B0-7mqNqOgy",
        "outputId": "ce0c2879-9643-4f29-8710-f9bff1f8648e"
      },
      "source": [
        "#3- Verifier s'il y a des doublons et les supprimer\n",
        "df.duplicated().sum()\n",
        "df.drop_duplicates()"
      ],
      "execution_count": 6,
      "outputs": [
        {
          "output_type": "execute_result",
          "data": {
            "text/html": [
              "<div>\n",
              "<style scoped>\n",
              "    .dataframe tbody tr th:only-of-type {\n",
              "        vertical-align: middle;\n",
              "    }\n",
              "\n",
              "    .dataframe tbody tr th {\n",
              "        vertical-align: top;\n",
              "    }\n",
              "\n",
              "    .dataframe thead th {\n",
              "        text-align: right;\n",
              "    }\n",
              "</style>\n",
              "<table border=\"1\" class=\"dataframe\">\n",
              "  <thead>\n",
              "    <tr style=\"text-align: right;\">\n",
              "      <th></th>\n",
              "      <th>AGE</th>\n",
              "      <th>SEXE</th>\n",
              "      <th>TDT</th>\n",
              "      <th>PAR</th>\n",
              "      <th>CHOLESTEROL</th>\n",
              "      <th>GAJ</th>\n",
              "      <th>ECG</th>\n",
              "      <th>FCMAX</th>\n",
              "      <th>ANGINE</th>\n",
              "      <th>DEPRESSION</th>\n",
              "      <th>PENTE</th>\n",
              "      <th>CŒUR</th>\n",
              "    </tr>\n",
              "  </thead>\n",
              "  <tbody>\n",
              "    <tr>\n",
              "      <th>0</th>\n",
              "      <td>40</td>\n",
              "      <td>homme</td>\n",
              "      <td>AA</td>\n",
              "      <td>140</td>\n",
              "      <td>289</td>\n",
              "      <td>0</td>\n",
              "      <td>Normal</td>\n",
              "      <td>172</td>\n",
              "      <td>Non</td>\n",
              "      <td>0.0</td>\n",
              "      <td>Ascendant</td>\n",
              "      <td>0</td>\n",
              "    </tr>\n",
              "    <tr>\n",
              "      <th>1</th>\n",
              "      <td>49</td>\n",
              "      <td>femme</td>\n",
              "      <td>DNA</td>\n",
              "      <td>160</td>\n",
              "      <td>180</td>\n",
              "      <td>0</td>\n",
              "      <td>Normal</td>\n",
              "      <td>156</td>\n",
              "      <td>Non</td>\n",
              "      <td>1.0</td>\n",
              "      <td>Plat</td>\n",
              "      <td>1</td>\n",
              "    </tr>\n",
              "    <tr>\n",
              "      <th>2</th>\n",
              "      <td>37</td>\n",
              "      <td>homme</td>\n",
              "      <td>AA</td>\n",
              "      <td>130</td>\n",
              "      <td>283</td>\n",
              "      <td>0</td>\n",
              "      <td>ST</td>\n",
              "      <td>98</td>\n",
              "      <td>Non</td>\n",
              "      <td>0.0</td>\n",
              "      <td>Ascendant</td>\n",
              "      <td>0</td>\n",
              "    </tr>\n",
              "    <tr>\n",
              "      <th>3</th>\n",
              "      <td>48</td>\n",
              "      <td>femme</td>\n",
              "      <td>ASY</td>\n",
              "      <td>138</td>\n",
              "      <td>214</td>\n",
              "      <td>0</td>\n",
              "      <td>Normal</td>\n",
              "      <td>108</td>\n",
              "      <td>Oui</td>\n",
              "      <td>1.5</td>\n",
              "      <td>Plat</td>\n",
              "      <td>1</td>\n",
              "    </tr>\n",
              "    <tr>\n",
              "      <th>4</th>\n",
              "      <td>54</td>\n",
              "      <td>homme</td>\n",
              "      <td>DNA</td>\n",
              "      <td>150</td>\n",
              "      <td>195</td>\n",
              "      <td>0</td>\n",
              "      <td>Normal</td>\n",
              "      <td>122</td>\n",
              "      <td>Non</td>\n",
              "      <td>0.0</td>\n",
              "      <td>Ascendant</td>\n",
              "      <td>0</td>\n",
              "    </tr>\n",
              "    <tr>\n",
              "      <th>...</th>\n",
              "      <td>...</td>\n",
              "      <td>...</td>\n",
              "      <td>...</td>\n",
              "      <td>...</td>\n",
              "      <td>...</td>\n",
              "      <td>...</td>\n",
              "      <td>...</td>\n",
              "      <td>...</td>\n",
              "      <td>...</td>\n",
              "      <td>...</td>\n",
              "      <td>...</td>\n",
              "      <td>...</td>\n",
              "    </tr>\n",
              "    <tr>\n",
              "      <th>913</th>\n",
              "      <td>45</td>\n",
              "      <td>homme</td>\n",
              "      <td>AT</td>\n",
              "      <td>110</td>\n",
              "      <td>264</td>\n",
              "      <td>0</td>\n",
              "      <td>Normal</td>\n",
              "      <td>132</td>\n",
              "      <td>Non</td>\n",
              "      <td>1.2</td>\n",
              "      <td>Plat</td>\n",
              "      <td>1</td>\n",
              "    </tr>\n",
              "    <tr>\n",
              "      <th>914</th>\n",
              "      <td>68</td>\n",
              "      <td>homme</td>\n",
              "      <td>ASY</td>\n",
              "      <td>144</td>\n",
              "      <td>193</td>\n",
              "      <td>1</td>\n",
              "      <td>Normal</td>\n",
              "      <td>141</td>\n",
              "      <td>Non</td>\n",
              "      <td>3.4</td>\n",
              "      <td>Plat</td>\n",
              "      <td>1</td>\n",
              "    </tr>\n",
              "    <tr>\n",
              "      <th>915</th>\n",
              "      <td>57</td>\n",
              "      <td>homme</td>\n",
              "      <td>ASY</td>\n",
              "      <td>130</td>\n",
              "      <td>131</td>\n",
              "      <td>0</td>\n",
              "      <td>Normal</td>\n",
              "      <td>115</td>\n",
              "      <td>Oui</td>\n",
              "      <td>1.2</td>\n",
              "      <td>Plat</td>\n",
              "      <td>1</td>\n",
              "    </tr>\n",
              "    <tr>\n",
              "      <th>916</th>\n",
              "      <td>57</td>\n",
              "      <td>femme</td>\n",
              "      <td>AA</td>\n",
              "      <td>130</td>\n",
              "      <td>236</td>\n",
              "      <td>0</td>\n",
              "      <td>LVH</td>\n",
              "      <td>174</td>\n",
              "      <td>Non</td>\n",
              "      <td>0.0</td>\n",
              "      <td>Plat</td>\n",
              "      <td>1</td>\n",
              "    </tr>\n",
              "    <tr>\n",
              "      <th>917</th>\n",
              "      <td>38</td>\n",
              "      <td>homme</td>\n",
              "      <td>DNA</td>\n",
              "      <td>138</td>\n",
              "      <td>175</td>\n",
              "      <td>0</td>\n",
              "      <td>Normal</td>\n",
              "      <td>173</td>\n",
              "      <td>Non</td>\n",
              "      <td>0.0</td>\n",
              "      <td>Ascendant</td>\n",
              "      <td>0</td>\n",
              "    </tr>\n",
              "  </tbody>\n",
              "</table>\n",
              "<p>918 rows × 12 columns</p>\n",
              "</div>"
            ],
            "text/plain": [
              "     AGE   SEXE  TDT  PAR  ...  ANGINE  DEPRESSION       PENTE  CŒUR\n",
              "0     40  homme   AA  140  ...     Non          0.0  Ascendant     0\n",
              "1     49  femme  DNA  160  ...     Non          1.0       Plat     1\n",
              "2     37  homme   AA  130  ...     Non          0.0  Ascendant     0\n",
              "3     48  femme  ASY  138  ...     Oui          1.5       Plat     1\n",
              "4     54  homme  DNA  150  ...     Non          0.0  Ascendant     0\n",
              "..   ...    ...  ...  ...  ...     ...          ...        ...   ...\n",
              "913   45  homme   AT  110  ...     Non          1.2       Plat     1\n",
              "914   68  homme  ASY  144  ...     Non          3.4       Plat     1\n",
              "915   57  homme  ASY  130  ...     Oui          1.2       Plat     1\n",
              "916   57  femme   AA  130  ...     Non          0.0       Plat     1\n",
              "917   38  homme  DNA  138  ...     Non          0.0  Ascendant     0\n",
              "\n",
              "[918 rows x 12 columns]"
            ]
          },
          "metadata": {},
          "execution_count": 6
        }
      ]
    },
    {
      "cell_type": "code",
      "metadata": {
        "id": "BoPL5mNqj54p",
        "colab": {
          "base_uri": "https://localhost:8080/"
        },
        "outputId": "4fdb56bb-229e-4ebc-c5c4-920b13dfcfb0"
      },
      "source": [
        "#4- Verifier s'il existe des variables constante(variable avec une seule modalité)\n",
        "df.nunique()"
      ],
      "execution_count": 7,
      "outputs": [
        {
          "output_type": "execute_result",
          "data": {
            "text/plain": [
              "AGE             50\n",
              "SEXE             2\n",
              "TDT              4\n",
              "PAR             67\n",
              "CHOLESTEROL    222\n",
              "GAJ              2\n",
              "ECG              3\n",
              "FCMAX          119\n",
              "ANGINE           2\n",
              "DEPRESSION      53\n",
              "PENTE            3\n",
              "CŒUR             2\n",
              "dtype: int64"
            ]
          },
          "metadata": {},
          "execution_count": 7
        }
      ]
    },
    {
      "cell_type": "code",
      "metadata": {
        "colab": {
          "base_uri": "https://localhost:8080/"
        },
        "id": "zQ2pA0tcr3mV",
        "outputId": "c77f99de-f4af-4ccb-c0a2-cf7ecbc284f0"
      },
      "source": [
        "#5-Verifier s'il y a des données manquante \n",
        "df.isna().sum()"
      ],
      "execution_count": 8,
      "outputs": [
        {
          "output_type": "execute_result",
          "data": {
            "text/plain": [
              "AGE            0\n",
              "SEXE           0\n",
              "TDT            0\n",
              "PAR            0\n",
              "CHOLESTEROL    0\n",
              "GAJ            0\n",
              "ECG            0\n",
              "FCMAX          0\n",
              "ANGINE         0\n",
              "DEPRESSION     0\n",
              "PENTE          0\n",
              "CŒUR           0\n",
              "dtype: int64"
            ]
          },
          "metadata": {},
          "execution_count": 8
        }
      ]
    },
    {
      "cell_type": "code",
      "metadata": {
        "id": "O6j1nLA6z7rq",
        "colab": {
          "base_uri": "https://localhost:8080/",
          "height": 424
        },
        "outputId": "94f419e4-df3a-4565-ba91-f0266c910f35"
      },
      "source": [
        "#6- Normalisation des variables quantitatives : First step\n",
        "\n",
        "var_quant = df.drop('CŒUR', axis= 1).select_dtypes(np.number)\n",
        "var_quant"
      ],
      "execution_count": 9,
      "outputs": [
        {
          "output_type": "execute_result",
          "data": {
            "text/html": [
              "<div>\n",
              "<style scoped>\n",
              "    .dataframe tbody tr th:only-of-type {\n",
              "        vertical-align: middle;\n",
              "    }\n",
              "\n",
              "    .dataframe tbody tr th {\n",
              "        vertical-align: top;\n",
              "    }\n",
              "\n",
              "    .dataframe thead th {\n",
              "        text-align: right;\n",
              "    }\n",
              "</style>\n",
              "<table border=\"1\" class=\"dataframe\">\n",
              "  <thead>\n",
              "    <tr style=\"text-align: right;\">\n",
              "      <th></th>\n",
              "      <th>AGE</th>\n",
              "      <th>PAR</th>\n",
              "      <th>CHOLESTEROL</th>\n",
              "      <th>GAJ</th>\n",
              "      <th>FCMAX</th>\n",
              "      <th>DEPRESSION</th>\n",
              "    </tr>\n",
              "  </thead>\n",
              "  <tbody>\n",
              "    <tr>\n",
              "      <th>0</th>\n",
              "      <td>40</td>\n",
              "      <td>140</td>\n",
              "      <td>289</td>\n",
              "      <td>0</td>\n",
              "      <td>172</td>\n",
              "      <td>0.0</td>\n",
              "    </tr>\n",
              "    <tr>\n",
              "      <th>1</th>\n",
              "      <td>49</td>\n",
              "      <td>160</td>\n",
              "      <td>180</td>\n",
              "      <td>0</td>\n",
              "      <td>156</td>\n",
              "      <td>1.0</td>\n",
              "    </tr>\n",
              "    <tr>\n",
              "      <th>2</th>\n",
              "      <td>37</td>\n",
              "      <td>130</td>\n",
              "      <td>283</td>\n",
              "      <td>0</td>\n",
              "      <td>98</td>\n",
              "      <td>0.0</td>\n",
              "    </tr>\n",
              "    <tr>\n",
              "      <th>3</th>\n",
              "      <td>48</td>\n",
              "      <td>138</td>\n",
              "      <td>214</td>\n",
              "      <td>0</td>\n",
              "      <td>108</td>\n",
              "      <td>1.5</td>\n",
              "    </tr>\n",
              "    <tr>\n",
              "      <th>4</th>\n",
              "      <td>54</td>\n",
              "      <td>150</td>\n",
              "      <td>195</td>\n",
              "      <td>0</td>\n",
              "      <td>122</td>\n",
              "      <td>0.0</td>\n",
              "    </tr>\n",
              "    <tr>\n",
              "      <th>...</th>\n",
              "      <td>...</td>\n",
              "      <td>...</td>\n",
              "      <td>...</td>\n",
              "      <td>...</td>\n",
              "      <td>...</td>\n",
              "      <td>...</td>\n",
              "    </tr>\n",
              "    <tr>\n",
              "      <th>913</th>\n",
              "      <td>45</td>\n",
              "      <td>110</td>\n",
              "      <td>264</td>\n",
              "      <td>0</td>\n",
              "      <td>132</td>\n",
              "      <td>1.2</td>\n",
              "    </tr>\n",
              "    <tr>\n",
              "      <th>914</th>\n",
              "      <td>68</td>\n",
              "      <td>144</td>\n",
              "      <td>193</td>\n",
              "      <td>1</td>\n",
              "      <td>141</td>\n",
              "      <td>3.4</td>\n",
              "    </tr>\n",
              "    <tr>\n",
              "      <th>915</th>\n",
              "      <td>57</td>\n",
              "      <td>130</td>\n",
              "      <td>131</td>\n",
              "      <td>0</td>\n",
              "      <td>115</td>\n",
              "      <td>1.2</td>\n",
              "    </tr>\n",
              "    <tr>\n",
              "      <th>916</th>\n",
              "      <td>57</td>\n",
              "      <td>130</td>\n",
              "      <td>236</td>\n",
              "      <td>0</td>\n",
              "      <td>174</td>\n",
              "      <td>0.0</td>\n",
              "    </tr>\n",
              "    <tr>\n",
              "      <th>917</th>\n",
              "      <td>38</td>\n",
              "      <td>138</td>\n",
              "      <td>175</td>\n",
              "      <td>0</td>\n",
              "      <td>173</td>\n",
              "      <td>0.0</td>\n",
              "    </tr>\n",
              "  </tbody>\n",
              "</table>\n",
              "<p>918 rows × 6 columns</p>\n",
              "</div>"
            ],
            "text/plain": [
              "     AGE  PAR  CHOLESTEROL  GAJ  FCMAX  DEPRESSION \n",
              "0     40  140          289    0    172          0.0\n",
              "1     49  160          180    0    156          1.0\n",
              "2     37  130          283    0     98          0.0\n",
              "3     48  138          214    0    108          1.5\n",
              "4     54  150          195    0    122          0.0\n",
              "..   ...  ...          ...  ...    ...          ...\n",
              "913   45  110          264    0    132          1.2\n",
              "914   68  144          193    1    141          3.4\n",
              "915   57  130          131    0    115          1.2\n",
              "916   57  130          236    0    174          0.0\n",
              "917   38  138          175    0    173          0.0\n",
              "\n",
              "[918 rows x 6 columns]"
            ]
          },
          "metadata": {},
          "execution_count": 9
        }
      ]
    },
    {
      "cell_type": "code",
      "metadata": {
        "colab": {
          "base_uri": "https://localhost:8080/",
          "height": 424
        },
        "id": "_HnmURJya_K8",
        "outputId": "b14695f0-b091-4245-bf3c-52f0dcb251fa"
      },
      "source": [
        "for i in var_quant.select_dtypes(np.number):\n",
        "  var_quant[i] = var_quant[i]/var_quant[i].max()\n",
        "var_quant"
      ],
      "execution_count": 10,
      "outputs": [
        {
          "output_type": "execute_result",
          "data": {
            "text/html": [
              "<div>\n",
              "<style scoped>\n",
              "    .dataframe tbody tr th:only-of-type {\n",
              "        vertical-align: middle;\n",
              "    }\n",
              "\n",
              "    .dataframe tbody tr th {\n",
              "        vertical-align: top;\n",
              "    }\n",
              "\n",
              "    .dataframe thead th {\n",
              "        text-align: right;\n",
              "    }\n",
              "</style>\n",
              "<table border=\"1\" class=\"dataframe\">\n",
              "  <thead>\n",
              "    <tr style=\"text-align: right;\">\n",
              "      <th></th>\n",
              "      <th>AGE</th>\n",
              "      <th>PAR</th>\n",
              "      <th>CHOLESTEROL</th>\n",
              "      <th>GAJ</th>\n",
              "      <th>FCMAX</th>\n",
              "      <th>DEPRESSION</th>\n",
              "    </tr>\n",
              "  </thead>\n",
              "  <tbody>\n",
              "    <tr>\n",
              "      <th>0</th>\n",
              "      <td>0.519481</td>\n",
              "      <td>0.70</td>\n",
              "      <td>0.479270</td>\n",
              "      <td>0.0</td>\n",
              "      <td>0.851485</td>\n",
              "      <td>0.000000</td>\n",
              "    </tr>\n",
              "    <tr>\n",
              "      <th>1</th>\n",
              "      <td>0.636364</td>\n",
              "      <td>0.80</td>\n",
              "      <td>0.298507</td>\n",
              "      <td>0.0</td>\n",
              "      <td>0.772277</td>\n",
              "      <td>0.161290</td>\n",
              "    </tr>\n",
              "    <tr>\n",
              "      <th>2</th>\n",
              "      <td>0.480519</td>\n",
              "      <td>0.65</td>\n",
              "      <td>0.469320</td>\n",
              "      <td>0.0</td>\n",
              "      <td>0.485149</td>\n",
              "      <td>0.000000</td>\n",
              "    </tr>\n",
              "    <tr>\n",
              "      <th>3</th>\n",
              "      <td>0.623377</td>\n",
              "      <td>0.69</td>\n",
              "      <td>0.354892</td>\n",
              "      <td>0.0</td>\n",
              "      <td>0.534653</td>\n",
              "      <td>0.241935</td>\n",
              "    </tr>\n",
              "    <tr>\n",
              "      <th>4</th>\n",
              "      <td>0.701299</td>\n",
              "      <td>0.75</td>\n",
              "      <td>0.323383</td>\n",
              "      <td>0.0</td>\n",
              "      <td>0.603960</td>\n",
              "      <td>0.000000</td>\n",
              "    </tr>\n",
              "    <tr>\n",
              "      <th>...</th>\n",
              "      <td>...</td>\n",
              "      <td>...</td>\n",
              "      <td>...</td>\n",
              "      <td>...</td>\n",
              "      <td>...</td>\n",
              "      <td>...</td>\n",
              "    </tr>\n",
              "    <tr>\n",
              "      <th>913</th>\n",
              "      <td>0.584416</td>\n",
              "      <td>0.55</td>\n",
              "      <td>0.437811</td>\n",
              "      <td>0.0</td>\n",
              "      <td>0.653465</td>\n",
              "      <td>0.193548</td>\n",
              "    </tr>\n",
              "    <tr>\n",
              "      <th>914</th>\n",
              "      <td>0.883117</td>\n",
              "      <td>0.72</td>\n",
              "      <td>0.320066</td>\n",
              "      <td>1.0</td>\n",
              "      <td>0.698020</td>\n",
              "      <td>0.548387</td>\n",
              "    </tr>\n",
              "    <tr>\n",
              "      <th>915</th>\n",
              "      <td>0.740260</td>\n",
              "      <td>0.65</td>\n",
              "      <td>0.217247</td>\n",
              "      <td>0.0</td>\n",
              "      <td>0.569307</td>\n",
              "      <td>0.193548</td>\n",
              "    </tr>\n",
              "    <tr>\n",
              "      <th>916</th>\n",
              "      <td>0.740260</td>\n",
              "      <td>0.65</td>\n",
              "      <td>0.391376</td>\n",
              "      <td>0.0</td>\n",
              "      <td>0.861386</td>\n",
              "      <td>0.000000</td>\n",
              "    </tr>\n",
              "    <tr>\n",
              "      <th>917</th>\n",
              "      <td>0.493506</td>\n",
              "      <td>0.69</td>\n",
              "      <td>0.290216</td>\n",
              "      <td>0.0</td>\n",
              "      <td>0.856436</td>\n",
              "      <td>0.000000</td>\n",
              "    </tr>\n",
              "  </tbody>\n",
              "</table>\n",
              "<p>918 rows × 6 columns</p>\n",
              "</div>"
            ],
            "text/plain": [
              "          AGE   PAR  CHOLESTEROL  GAJ     FCMAX  DEPRESSION \n",
              "0    0.519481  0.70     0.479270  0.0  0.851485     0.000000\n",
              "1    0.636364  0.80     0.298507  0.0  0.772277     0.161290\n",
              "2    0.480519  0.65     0.469320  0.0  0.485149     0.000000\n",
              "3    0.623377  0.69     0.354892  0.0  0.534653     0.241935\n",
              "4    0.701299  0.75     0.323383  0.0  0.603960     0.000000\n",
              "..        ...   ...          ...  ...       ...          ...\n",
              "913  0.584416  0.55     0.437811  0.0  0.653465     0.193548\n",
              "914  0.883117  0.72     0.320066  1.0  0.698020     0.548387\n",
              "915  0.740260  0.65     0.217247  0.0  0.569307     0.193548\n",
              "916  0.740260  0.65     0.391376  0.0  0.861386     0.000000\n",
              "917  0.493506  0.69     0.290216  0.0  0.856436     0.000000\n",
              "\n",
              "[918 rows x 6 columns]"
            ]
          },
          "metadata": {},
          "execution_count": 10
        }
      ]
    },
    {
      "cell_type": "code",
      "metadata": {
        "id": "fF2vdA5ACNfu"
      },
      "source": [
        "#7-Faire le recodage de toutes les variables qualitative\n",
        "def recod(params):\n",
        "  return params.astype('category').cat.codes"
      ],
      "execution_count": 11,
      "outputs": []
    },
    {
      "cell_type": "code",
      "metadata": {
        "id": "n56aT5fhCvjb"
      },
      "source": [
        "def recod_global(data):\n",
        "  for col in data.select_dtypes('object').columns:\n",
        "    data[col] = recod(data[col])\n",
        "    return data\n"
      ],
      "execution_count": 12,
      "outputs": []
    },
    {
      "cell_type": "code",
      "metadata": {
        "id": "IE88i8qHDSh0",
        "colab": {
          "base_uri": "https://localhost:8080/",
          "height": 424
        },
        "outputId": "2d6e4f1a-ab25-4b02-9d39-402678fd633b"
      },
      "source": [
        "recod_global(df)"
      ],
      "execution_count": 23,
      "outputs": [
        {
          "output_type": "execute_result",
          "data": {
            "text/html": [
              "<div>\n",
              "<style scoped>\n",
              "    .dataframe tbody tr th:only-of-type {\n",
              "        vertical-align: middle;\n",
              "    }\n",
              "\n",
              "    .dataframe tbody tr th {\n",
              "        vertical-align: top;\n",
              "    }\n",
              "\n",
              "    .dataframe thead th {\n",
              "        text-align: right;\n",
              "    }\n",
              "</style>\n",
              "<table border=\"1\" class=\"dataframe\">\n",
              "  <thead>\n",
              "    <tr style=\"text-align: right;\">\n",
              "      <th></th>\n",
              "      <th>AGE</th>\n",
              "      <th>SEXE</th>\n",
              "      <th>TDT</th>\n",
              "      <th>PAR</th>\n",
              "      <th>CHOLESTEROL</th>\n",
              "      <th>GAJ</th>\n",
              "      <th>ECG</th>\n",
              "      <th>FCMAX</th>\n",
              "      <th>ANGINE</th>\n",
              "      <th>DEPRESSION</th>\n",
              "      <th>PENTE</th>\n",
              "      <th>CŒUR</th>\n",
              "    </tr>\n",
              "  </thead>\n",
              "  <tbody>\n",
              "    <tr>\n",
              "      <th>0</th>\n",
              "      <td>40</td>\n",
              "      <td>1</td>\n",
              "      <td>0</td>\n",
              "      <td>140</td>\n",
              "      <td>289</td>\n",
              "      <td>0</td>\n",
              "      <td>1</td>\n",
              "      <td>172</td>\n",
              "      <td>0</td>\n",
              "      <td>0.0</td>\n",
              "      <td>0</td>\n",
              "      <td>0</td>\n",
              "    </tr>\n",
              "    <tr>\n",
              "      <th>1</th>\n",
              "      <td>49</td>\n",
              "      <td>0</td>\n",
              "      <td>3</td>\n",
              "      <td>160</td>\n",
              "      <td>180</td>\n",
              "      <td>0</td>\n",
              "      <td>1</td>\n",
              "      <td>156</td>\n",
              "      <td>0</td>\n",
              "      <td>1.0</td>\n",
              "      <td>2</td>\n",
              "      <td>1</td>\n",
              "    </tr>\n",
              "    <tr>\n",
              "      <th>2</th>\n",
              "      <td>37</td>\n",
              "      <td>1</td>\n",
              "      <td>0</td>\n",
              "      <td>130</td>\n",
              "      <td>283</td>\n",
              "      <td>0</td>\n",
              "      <td>2</td>\n",
              "      <td>98</td>\n",
              "      <td>0</td>\n",
              "      <td>0.0</td>\n",
              "      <td>0</td>\n",
              "      <td>0</td>\n",
              "    </tr>\n",
              "    <tr>\n",
              "      <th>3</th>\n",
              "      <td>48</td>\n",
              "      <td>0</td>\n",
              "      <td>1</td>\n",
              "      <td>138</td>\n",
              "      <td>214</td>\n",
              "      <td>0</td>\n",
              "      <td>1</td>\n",
              "      <td>108</td>\n",
              "      <td>1</td>\n",
              "      <td>1.5</td>\n",
              "      <td>2</td>\n",
              "      <td>1</td>\n",
              "    </tr>\n",
              "    <tr>\n",
              "      <th>4</th>\n",
              "      <td>54</td>\n",
              "      <td>1</td>\n",
              "      <td>3</td>\n",
              "      <td>150</td>\n",
              "      <td>195</td>\n",
              "      <td>0</td>\n",
              "      <td>1</td>\n",
              "      <td>122</td>\n",
              "      <td>0</td>\n",
              "      <td>0.0</td>\n",
              "      <td>0</td>\n",
              "      <td>0</td>\n",
              "    </tr>\n",
              "    <tr>\n",
              "      <th>...</th>\n",
              "      <td>...</td>\n",
              "      <td>...</td>\n",
              "      <td>...</td>\n",
              "      <td>...</td>\n",
              "      <td>...</td>\n",
              "      <td>...</td>\n",
              "      <td>...</td>\n",
              "      <td>...</td>\n",
              "      <td>...</td>\n",
              "      <td>...</td>\n",
              "      <td>...</td>\n",
              "      <td>...</td>\n",
              "    </tr>\n",
              "    <tr>\n",
              "      <th>913</th>\n",
              "      <td>45</td>\n",
              "      <td>1</td>\n",
              "      <td>2</td>\n",
              "      <td>110</td>\n",
              "      <td>264</td>\n",
              "      <td>0</td>\n",
              "      <td>1</td>\n",
              "      <td>132</td>\n",
              "      <td>0</td>\n",
              "      <td>1.2</td>\n",
              "      <td>2</td>\n",
              "      <td>1</td>\n",
              "    </tr>\n",
              "    <tr>\n",
              "      <th>914</th>\n",
              "      <td>68</td>\n",
              "      <td>1</td>\n",
              "      <td>1</td>\n",
              "      <td>144</td>\n",
              "      <td>193</td>\n",
              "      <td>1</td>\n",
              "      <td>1</td>\n",
              "      <td>141</td>\n",
              "      <td>0</td>\n",
              "      <td>3.4</td>\n",
              "      <td>2</td>\n",
              "      <td>1</td>\n",
              "    </tr>\n",
              "    <tr>\n",
              "      <th>915</th>\n",
              "      <td>57</td>\n",
              "      <td>1</td>\n",
              "      <td>1</td>\n",
              "      <td>130</td>\n",
              "      <td>131</td>\n",
              "      <td>0</td>\n",
              "      <td>1</td>\n",
              "      <td>115</td>\n",
              "      <td>1</td>\n",
              "      <td>1.2</td>\n",
              "      <td>2</td>\n",
              "      <td>1</td>\n",
              "    </tr>\n",
              "    <tr>\n",
              "      <th>916</th>\n",
              "      <td>57</td>\n",
              "      <td>0</td>\n",
              "      <td>0</td>\n",
              "      <td>130</td>\n",
              "      <td>236</td>\n",
              "      <td>0</td>\n",
              "      <td>0</td>\n",
              "      <td>174</td>\n",
              "      <td>0</td>\n",
              "      <td>0.0</td>\n",
              "      <td>2</td>\n",
              "      <td>1</td>\n",
              "    </tr>\n",
              "    <tr>\n",
              "      <th>917</th>\n",
              "      <td>38</td>\n",
              "      <td>1</td>\n",
              "      <td>3</td>\n",
              "      <td>138</td>\n",
              "      <td>175</td>\n",
              "      <td>0</td>\n",
              "      <td>1</td>\n",
              "      <td>173</td>\n",
              "      <td>0</td>\n",
              "      <td>0.0</td>\n",
              "      <td>0</td>\n",
              "      <td>0</td>\n",
              "    </tr>\n",
              "  </tbody>\n",
              "</table>\n",
              "<p>918 rows × 12 columns</p>\n",
              "</div>"
            ],
            "text/plain": [
              "     AGE  SEXE  TDT  PAR  CHOLESTEROL  ...  FCMAX  ANGINE  DEPRESSION   PENTE  CŒUR\n",
              "0     40     1    0  140          289  ...    172       0          0.0      0     0\n",
              "1     49     0    3  160          180  ...    156       0          1.0      2     1\n",
              "2     37     1    0  130          283  ...     98       0          0.0      0     0\n",
              "3     48     0    1  138          214  ...    108       1          1.5      2     1\n",
              "4     54     1    3  150          195  ...    122       0          0.0      0     0\n",
              "..   ...   ...  ...  ...          ...  ...    ...     ...          ...    ...   ...\n",
              "913   45     1    2  110          264  ...    132       0          1.2      2     1\n",
              "914   68     1    1  144          193  ...    141       0          3.4      2     1\n",
              "915   57     1    1  130          131  ...    115       1          1.2      2     1\n",
              "916   57     0    0  130          236  ...    174       0          0.0      2     1\n",
              "917   38     1    3  138          175  ...    173       0          0.0      0     0\n",
              "\n",
              "[918 rows x 12 columns]"
            ]
          },
          "metadata": {},
          "execution_count": 23
        }
      ]
    },
    {
      "cell_type": "code",
      "metadata": {
        "colab": {
          "base_uri": "https://localhost:8080/",
          "height": 424
        },
        "id": "OlaWguGuEV6w",
        "outputId": "27ee0a55-5c6c-428a-c4ad-024377434757"
      },
      "source": [
        "#8-Separation des données \n",
        "\n",
        "Y = df[['CŒUR']]\n",
        "X = df[['AGE','SEXE','TDT', 'PAR','CHOLESTEROL','GAJ','ECG','FCMAX','ANGINE','DEPRESSION ','PENTE']]\n",
        "X"
      ],
      "execution_count": 24,
      "outputs": [
        {
          "output_type": "execute_result",
          "data": {
            "text/html": [
              "<div>\n",
              "<style scoped>\n",
              "    .dataframe tbody tr th:only-of-type {\n",
              "        vertical-align: middle;\n",
              "    }\n",
              "\n",
              "    .dataframe tbody tr th {\n",
              "        vertical-align: top;\n",
              "    }\n",
              "\n",
              "    .dataframe thead th {\n",
              "        text-align: right;\n",
              "    }\n",
              "</style>\n",
              "<table border=\"1\" class=\"dataframe\">\n",
              "  <thead>\n",
              "    <tr style=\"text-align: right;\">\n",
              "      <th></th>\n",
              "      <th>AGE</th>\n",
              "      <th>SEXE</th>\n",
              "      <th>TDT</th>\n",
              "      <th>PAR</th>\n",
              "      <th>CHOLESTEROL</th>\n",
              "      <th>GAJ</th>\n",
              "      <th>ECG</th>\n",
              "      <th>FCMAX</th>\n",
              "      <th>ANGINE</th>\n",
              "      <th>DEPRESSION</th>\n",
              "      <th>PENTE</th>\n",
              "    </tr>\n",
              "  </thead>\n",
              "  <tbody>\n",
              "    <tr>\n",
              "      <th>0</th>\n",
              "      <td>40</td>\n",
              "      <td>1</td>\n",
              "      <td>0</td>\n",
              "      <td>140</td>\n",
              "      <td>289</td>\n",
              "      <td>0</td>\n",
              "      <td>1</td>\n",
              "      <td>172</td>\n",
              "      <td>0</td>\n",
              "      <td>0.0</td>\n",
              "      <td>0</td>\n",
              "    </tr>\n",
              "    <tr>\n",
              "      <th>1</th>\n",
              "      <td>49</td>\n",
              "      <td>0</td>\n",
              "      <td>3</td>\n",
              "      <td>160</td>\n",
              "      <td>180</td>\n",
              "      <td>0</td>\n",
              "      <td>1</td>\n",
              "      <td>156</td>\n",
              "      <td>0</td>\n",
              "      <td>1.0</td>\n",
              "      <td>2</td>\n",
              "    </tr>\n",
              "    <tr>\n",
              "      <th>2</th>\n",
              "      <td>37</td>\n",
              "      <td>1</td>\n",
              "      <td>0</td>\n",
              "      <td>130</td>\n",
              "      <td>283</td>\n",
              "      <td>0</td>\n",
              "      <td>2</td>\n",
              "      <td>98</td>\n",
              "      <td>0</td>\n",
              "      <td>0.0</td>\n",
              "      <td>0</td>\n",
              "    </tr>\n",
              "    <tr>\n",
              "      <th>3</th>\n",
              "      <td>48</td>\n",
              "      <td>0</td>\n",
              "      <td>1</td>\n",
              "      <td>138</td>\n",
              "      <td>214</td>\n",
              "      <td>0</td>\n",
              "      <td>1</td>\n",
              "      <td>108</td>\n",
              "      <td>1</td>\n",
              "      <td>1.5</td>\n",
              "      <td>2</td>\n",
              "    </tr>\n",
              "    <tr>\n",
              "      <th>4</th>\n",
              "      <td>54</td>\n",
              "      <td>1</td>\n",
              "      <td>3</td>\n",
              "      <td>150</td>\n",
              "      <td>195</td>\n",
              "      <td>0</td>\n",
              "      <td>1</td>\n",
              "      <td>122</td>\n",
              "      <td>0</td>\n",
              "      <td>0.0</td>\n",
              "      <td>0</td>\n",
              "    </tr>\n",
              "    <tr>\n",
              "      <th>...</th>\n",
              "      <td>...</td>\n",
              "      <td>...</td>\n",
              "      <td>...</td>\n",
              "      <td>...</td>\n",
              "      <td>...</td>\n",
              "      <td>...</td>\n",
              "      <td>...</td>\n",
              "      <td>...</td>\n",
              "      <td>...</td>\n",
              "      <td>...</td>\n",
              "      <td>...</td>\n",
              "    </tr>\n",
              "    <tr>\n",
              "      <th>913</th>\n",
              "      <td>45</td>\n",
              "      <td>1</td>\n",
              "      <td>2</td>\n",
              "      <td>110</td>\n",
              "      <td>264</td>\n",
              "      <td>0</td>\n",
              "      <td>1</td>\n",
              "      <td>132</td>\n",
              "      <td>0</td>\n",
              "      <td>1.2</td>\n",
              "      <td>2</td>\n",
              "    </tr>\n",
              "    <tr>\n",
              "      <th>914</th>\n",
              "      <td>68</td>\n",
              "      <td>1</td>\n",
              "      <td>1</td>\n",
              "      <td>144</td>\n",
              "      <td>193</td>\n",
              "      <td>1</td>\n",
              "      <td>1</td>\n",
              "      <td>141</td>\n",
              "      <td>0</td>\n",
              "      <td>3.4</td>\n",
              "      <td>2</td>\n",
              "    </tr>\n",
              "    <tr>\n",
              "      <th>915</th>\n",
              "      <td>57</td>\n",
              "      <td>1</td>\n",
              "      <td>1</td>\n",
              "      <td>130</td>\n",
              "      <td>131</td>\n",
              "      <td>0</td>\n",
              "      <td>1</td>\n",
              "      <td>115</td>\n",
              "      <td>1</td>\n",
              "      <td>1.2</td>\n",
              "      <td>2</td>\n",
              "    </tr>\n",
              "    <tr>\n",
              "      <th>916</th>\n",
              "      <td>57</td>\n",
              "      <td>0</td>\n",
              "      <td>0</td>\n",
              "      <td>130</td>\n",
              "      <td>236</td>\n",
              "      <td>0</td>\n",
              "      <td>0</td>\n",
              "      <td>174</td>\n",
              "      <td>0</td>\n",
              "      <td>0.0</td>\n",
              "      <td>2</td>\n",
              "    </tr>\n",
              "    <tr>\n",
              "      <th>917</th>\n",
              "      <td>38</td>\n",
              "      <td>1</td>\n",
              "      <td>3</td>\n",
              "      <td>138</td>\n",
              "      <td>175</td>\n",
              "      <td>0</td>\n",
              "      <td>1</td>\n",
              "      <td>173</td>\n",
              "      <td>0</td>\n",
              "      <td>0.0</td>\n",
              "      <td>0</td>\n",
              "    </tr>\n",
              "  </tbody>\n",
              "</table>\n",
              "<p>918 rows × 11 columns</p>\n",
              "</div>"
            ],
            "text/plain": [
              "     AGE  SEXE  TDT  PAR  CHOLESTEROL  ...  ECG  FCMAX  ANGINE  DEPRESSION   PENTE\n",
              "0     40     1    0  140          289  ...    1    172       0          0.0      0\n",
              "1     49     0    3  160          180  ...    1    156       0          1.0      2\n",
              "2     37     1    0  130          283  ...    2     98       0          0.0      0\n",
              "3     48     0    1  138          214  ...    1    108       1          1.5      2\n",
              "4     54     1    3  150          195  ...    1    122       0          0.0      0\n",
              "..   ...   ...  ...  ...          ...  ...  ...    ...     ...          ...    ...\n",
              "913   45     1    2  110          264  ...    1    132       0          1.2      2\n",
              "914   68     1    1  144          193  ...    1    141       0          3.4      2\n",
              "915   57     1    1  130          131  ...    1    115       1          1.2      2\n",
              "916   57     0    0  130          236  ...    0    174       0          0.0      2\n",
              "917   38     1    3  138          175  ...    1    173       0          0.0      0\n",
              "\n",
              "[918 rows x 11 columns]"
            ]
          },
          "metadata": {},
          "execution_count": 24
        }
      ]
    },
    {
      "cell_type": "code",
      "metadata": {
        "id": "EKuyHeaWEzuA"
      },
      "source": [
        "#9-Utilisation de la fonction train_test_split du module model_selection de sklearn\n",
        "\n",
        "from sklearn.model_selection import train_test_split"
      ],
      "execution_count": 25,
      "outputs": []
    },
    {
      "cell_type": "code",
      "metadata": {
        "colab": {
          "base_uri": "https://localhost:8080/"
        },
        "id": "1BR2LyRyIDdY",
        "outputId": "515b47ba-b8d1-4e17-950a-f5920fdcbec9"
      },
      "source": [
        "X_train, X_test, y_train, y_test = train_test_split(X,Y, test_size=0.2,random_state=4)\n",
        "print('Train_set :',X_train.shape)\n",
        "print('test_set :',X_test.shape)"
      ],
      "execution_count": 26,
      "outputs": [
        {
          "output_type": "stream",
          "name": "stdout",
          "text": [
            "Train_set : (734, 11)\n",
            "test_set : (184, 11)\n"
          ]
        }
      ]
    },
    {
      "cell_type": "code",
      "metadata": {
        "id": "N1mH0csBJgtm"
      },
      "source": [
        "#10-Arbre de décision  \n",
        "from sklearn.tree import DecisionTreeClassifier"
      ],
      "execution_count": 39,
      "outputs": []
    },
    {
      "cell_type": "code",
      "metadata": {
        "colab": {
          "base_uri": "https://localhost:8080/"
        },
        "id": "IrNEdtKhQxy9",
        "outputId": "149aeea0-e125-4b91-f900-d26c00c6caba"
      },
      "source": [
        "Decis_tree = DecisionTreeClassifier(random_state=1)\n",
        "Decis_tree.fit(X_train, y_train)"
      ],
      "execution_count": 28,
      "outputs": [
        {
          "output_type": "execute_result",
          "data": {
            "text/plain": [
              "DecisionTreeClassifier(random_state=1)"
            ]
          },
          "metadata": {},
          "execution_count": 28
        }
      ]
    },
    {
      "cell_type": "code",
      "metadata": {
        "colab": {
          "base_uri": "https://localhost:8080/"
        },
        "id": "n_sZ0kMxE7DD",
        "outputId": "49612614-bb8b-45bf-a413-6de9baa08841"
      },
      "source": [
        "#11- Affichage de la probabilité d'appartenance à chacune des classes de la variable coeur\n",
        "\n",
        "Decis_tree.predict_proba(X_test[:5])"
      ],
      "execution_count": 29,
      "outputs": [
        {
          "output_type": "execute_result",
          "data": {
            "text/plain": [
              "array([[1., 0.],\n",
              "       [0., 1.],\n",
              "       [1., 0.],\n",
              "       [1., 0.],\n",
              "       [1., 0.]])"
            ]
          },
          "metadata": {},
          "execution_count": 29
        }
      ]
    },
    {
      "cell_type": "code",
      "metadata": {
        "colab": {
          "base_uri": "https://localhost:8080/"
        },
        "id": "5u7tr-A7FKsN",
        "outputId": "115a1308-1863-48a8-ccbe-1c705cc55c6d"
      },
      "source": [
        "#12- Prediction de la classe d'appartenance de chaque individu de X_test\n",
        "y_pred = Decis_tree.predict(X_test)\n",
        "y_pred"
      ],
      "execution_count": 30,
      "outputs": [
        {
          "output_type": "execute_result",
          "data": {
            "text/plain": [
              "array([0, 1, 0, 0, 0, 1, 1, 1, 0, 0, 0, 1, 0, 0, 0, 0, 0, 0, 0, 0, 1, 0,\n",
              "       0, 1, 1, 1, 0, 0, 1, 1, 1, 1, 1, 1, 1, 0, 1, 1, 1, 1, 1, 0, 1, 0,\n",
              "       1, 1, 1, 1, 0, 1, 0, 0, 0, 0, 0, 0, 1, 1, 0, 0, 1, 0, 0, 1, 1, 1,\n",
              "       0, 1, 0, 0, 1, 0, 0, 0, 0, 0, 0, 0, 0, 1, 0, 1, 0, 1, 1, 1, 0, 0,\n",
              "       0, 1, 1, 1, 1, 0, 1, 1, 0, 1, 1, 1, 0, 0, 1, 1, 1, 1, 0, 1, 1, 1,\n",
              "       1, 0, 1, 0, 0, 1, 1, 1, 0, 1, 0, 1, 0, 0, 1, 0, 1, 1, 0, 1, 0, 0,\n",
              "       1, 1, 1, 1, 1, 1, 1, 1, 0, 1, 0, 0, 1, 1, 1, 0, 0, 0, 1, 0, 0, 1,\n",
              "       1, 0, 1, 0, 0, 1, 0, 1, 0, 0, 1, 1, 1, 1, 0, 0, 0, 0, 1, 1, 1, 0,\n",
              "       0, 1, 1, 1, 1, 0, 0, 1])"
            ]
          },
          "metadata": {},
          "execution_count": 30
        }
      ]
    },
    {
      "cell_type": "markdown",
      "metadata": {
        "id": "OCCX4BV-KBMW"
      },
      "source": [
        "#13- Matrice de confusion, taux de succès, sensibilité et précision du model"
      ]
    },
    {
      "cell_type": "code",
      "metadata": {
        "id": "6Mca5sgdKD6V",
        "colab": {
          "base_uri": "https://localhost:8080/"
        },
        "outputId": "cd2fba73-5304-45a3-aadd-efe887707615"
      },
      "source": [
        "# Matrice de confusion\n",
        "from sklearn.metrics import confusion_matrix\n",
        "mat_conf = confusion_matrix(y_pred,y_test)\n",
        "mat_conf"
      ],
      "execution_count": 31,
      "outputs": [
        {
          "output_type": "execute_result",
          "data": {
            "text/plain": [
              "array([[71, 16],\n",
              "       [17, 80]])"
            ]
          },
          "metadata": {},
          "execution_count": 31
        }
      ]
    },
    {
      "cell_type": "code",
      "metadata": {
        "id": "RWfdkZIwPTrB",
        "colab": {
          "base_uri": "https://localhost:8080/"
        },
        "outputId": "93c949b4-4fa6-4fc0-a6bb-3271081e7d4e"
      },
      "source": [
        "#accuracy_score \n",
        "from sklearn.metrics import accuracy_score\n",
        "acc_score = accuracy_score(y_pred,y_test)\n",
        "acc_score"
      ],
      "execution_count": 32,
      "outputs": [
        {
          "output_type": "execute_result",
          "data": {
            "text/plain": [
              "0.8206521739130435"
            ]
          },
          "metadata": {},
          "execution_count": 32
        }
      ]
    },
    {
      "cell_type": "code",
      "metadata": {
        "id": "KfEtXQoMkxr2",
        "colab": {
          "base_uri": "https://localhost:8080/"
        },
        "outputId": "d3d8f5a6-3bf6-4a78-81b4-47212d8f6941"
      },
      "source": [
        "#recall score \n",
        "from sklearn.metrics import recall_score\n",
        "rec_score = recall_score(y_pred,y_test)\n",
        "rec_score"
      ],
      "execution_count": 33,
      "outputs": [
        {
          "output_type": "execute_result",
          "data": {
            "text/plain": [
              "0.8247422680412371"
            ]
          },
          "metadata": {},
          "execution_count": 33
        }
      ]
    },
    {
      "cell_type": "code",
      "metadata": {
        "colab": {
          "base_uri": "https://localhost:8080/"
        },
        "id": "e1Vk_-Yp9Mjq",
        "outputId": "320ba663-e0c6-480a-9f42-c31873b37e0d"
      },
      "source": [
        "#precision score\n",
        "from sklearn.metrics import precision_score\n",
        "prec_score = precision_score(y_pred,y_test)\n",
        "prec_score"
      ],
      "execution_count": 34,
      "outputs": [
        {
          "output_type": "execute_result",
          "data": {
            "text/plain": [
              "0.8333333333333334"
            ]
          },
          "metadata": {},
          "execution_count": 34
        }
      ]
    },
    {
      "cell_type": "code",
      "metadata": {
        "id": "Da8kB62xSlgb"
      },
      "source": [
        "#Enrégistrement du model pour pouvoir le déployer\n",
        "import pickle\n",
        "pickle.dump(Decis_tree,open('tree_model.pkl','wb'))"
      ],
      "execution_count": 36,
      "outputs": []
    },
    {
      "cell_type": "code",
      "metadata": {
        "colab": {
          "base_uri": "https://localhost:8080/",
          "height": 319
        },
        "id": "Z5txqbkl8g_B",
        "outputId": "a27b9cc7-3e19-4413-ab62-007c925566b5"
      },
      "source": [
        "#Affichage de l'histogramme des variables quantitatives\n",
        "quant = ['AGE','PAR','CHOLESTEROL', 'FCMAX', 'DEPRESSION ']\n",
        "plt.figure(tight_layout = True, figsize = (15,8))\n",
        "plt.suptitle(\"HISTOGRAMMES DES VARIABLES QUANTITATIVES\")\n",
        "for y,x in enumerate(quant):\n",
        "    plt.subplot(2,5,y+1)\n",
        "    plt.hist(df[x])\n",
        "    plt.title(f\"{quant[y]}\")\n",
        "plt.show()"
      ],
      "execution_count": 37,
      "outputs": [
        {
          "output_type": "display_data",
          "data": {
            "image/png": "[encoded data removed]",
            "text/plain": [
              "<Figure size 1080x576 with 5 Axes>"
            ]
          },
          "metadata": {
            "needs_background": "light"
          }
        }
      ]
    },
    {
      "cell_type": "code",
      "metadata": {
        "colab": {
          "base_uri": "https://localhost:8080/",
          "height": 443
        },
        "id": "-OHwD1ql67LD",
        "outputId": "7bacad6c-ec16-4e43-cfd8-03556d1dc6b0"
      },
      "source": [
        "# Affichage du diagramme circulaire des variables qualitatives\n",
        "qual = ['SEXE', 'TDT', 'GAJ', 'ECG', 'ANGINE', 'PENTE', 'CŒUR'] # la liste des variables qualitatives\n",
        "plt.figure(tight_layout = True, figsize = (14,6))\n",
        "plt.suptitle(\"LES DIAGRAMMES CIRCULAIRE DES VARIABLES QUALITATIVES\")\n",
        "for y,x in enumerate(qual):\n",
        "    eff = df[x].value_counts()\n",
        "    modalite = df[x].unique()\n",
        "    plt.subplot(2,4,y+1)\n",
        "    plt.pie(eff, labels = modalite, autopct = '%1.1f%%')\n",
        "    plt.legend(bbox_to_anchor = (0, 1))\n",
        "    plt.title(f\"{qual[y]}\")\n",
        "plt.show()"
      ],
      "execution_count": 38,
      "outputs": [
        {
          "output_type": "display_data",
          "data": {
            "image/png": "[encoded data removed]",
            "text/plain": [
              "<Figure size 1008x432 with 7 Axes>"
            ]
          },
          "metadata": {}
        }
      ]
    },
    {
      "cell_type": "code",
      "metadata": {
        "id": "5zc2mSYj08y0"
      },
      "source": [
        "X_test.head(10)"
      ],
      "execution_count": null,
      "outputs": []
    },
    {
      "cell_type": "code",
      "metadata": {
        "id": "A2629V8S0-Zf"
      },
      "source": [
        "y_test.head(10)"
      ],
      "execution_count": null,
      "outputs": []
    },
    {
      "cell_type": "code",
      "metadata": {
        "id": "vEV_ZHu71NtV"
      },
      "source": [
        ""
      ],
      "execution_count": null,
      "outputs": []
    }
  ]
}